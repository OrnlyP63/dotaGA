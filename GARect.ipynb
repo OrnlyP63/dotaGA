{
 "cells": [
  {
   "cell_type": "code",
   "execution_count": 1,
   "metadata": {},
   "outputs": [],
   "source": [
    "import numpy as np\n",
    "import random\n",
    "import matplotlib.pyplot as plt\n",
    "import math\n",
    "np.random.seed(0)"
   ]
  },
  {
   "cell_type": "code",
   "execution_count": 2,
   "metadata": {},
   "outputs": [],
   "source": [
    "class Canvas:\n",
    "    def __init__(self, width, height):\n",
    "        self.width = width\n",
    "        self.height = height\n",
    "        self.area = width * height\n",
    "        \n",
    "class Sml_rec:\n",
    "    def __init__(self,  height, width,   flip, bound, shape = None):\n",
    "        \n",
    "        self.f = flip\n",
    "        self.bound = bound\n",
    "        self.shape = shape\n",
    "        self.length_width = len(bin(bound.width))-2\n",
    "        self.length_height = len(bin(bound.height))-2\n",
    "        code_widht = '{0:0rb}'.replace('r',f'{self.length_width}')\n",
    "        code_height = '{0:0rb}'.replace('r',f'{self.length_height}')\n",
    "        \n",
    "        if flip:\n",
    "            self.width = width\n",
    "            self.height = height\n",
    "            self.area = width * height\n",
    "            self.p1 = np.random.randint(0, bound.height - self.height + 1)\n",
    "            self.p2 = np.random.randint(0, bound.width - self.width + 1)\n",
    "        else:\n",
    "            self.width = height\n",
    "            self.height = width\n",
    "            self.area = width * height\n",
    "            self.p1 = np.random.randint(0, bound.height - self.height)\n",
    "            self.p2 = np.random.randint(0, bound.width - self.width)\n",
    "            \n",
    "        self.dna = code_height.format(self.p1) + code_widht.format(self.p2) + f'{self.f}'\n",
    "\n",
    "    \n",
    "        if self.shape is None:\n",
    "            a = np.zeros(bound.area).reshape(bound.height,bound.width)\n",
    "            a[self.p1:self.p1 + self.height, self.p2:self.p2 + self.width] = 1\n",
    "        \n",
    "        else:\n",
    "            a = np.zeros(bound.area).reshape(bound.height,bound.width)\n",
    "            a[self.p1:self.p1 + self.height, self.p2:self.p2 + self.width] = self.shape\n",
    "            \n",
    "        self.phenotype = a\n",
    "        \n",
    "    def xover(self,other):\n",
    "        par1 = self.dna\n",
    "        par2 = other.dna\n",
    "#         position1 = np.random.randint(0, len(par1))\n",
    "#         position2 = np.random.randint(0, len(par2))\n",
    "        position = np.random.randint(0, len(par1))\n",
    "#         chd1_dna = par1[:position2] + par2[position1] +  par1[position2+1:]\n",
    "#         chd2_dna = par2[:position1] + par1[position1] +  par2[position1+1:]\n",
    "\n",
    "        chd1_dna = par1[:position] + par2[position:]\n",
    "        chd2_dna = par2[:position] + par1[position:]\n",
    "        print(self.length_width)\n",
    "        print(self.length_height)\n",
    "        print(self.bound.width)\n",
    "        print(self.bound.height)\n",
    "        print(chd1_dna)\n",
    "        print(chd2_dna)\n",
    "        print('-'*30)\n",
    "        chd1 = Sml_rec(int(chd1_dna[:self.length_height],2), int(chd1_dna[self.length_height:self.length_height + self.length_width],2), int(chd1_dna[-1],2), self.bound)\n",
    "        chd2 = Sml_rec(int(chd2_dna[:self.length_height],2), int(chd2_dna[self.length_height:self.length_height + self.length_width],2), int(chd2_dna[-1],2), self.bound)\n",
    "        return (chd1, chd2)\n",
    "    \n",
    "    def mutate(self):\n",
    "        position = np.random.randint(0, len(self.dna))\n",
    "        if self.dna[position] == '1':\n",
    "            self.dna = self.dna[:position] + '1' + self.dna[position+1:]\n",
    "        else:\n",
    "            self.dna = self.dna[:position] + '0' + self.dna[position+1:]"
   ]
  },
  {
   "cell_type": "code",
   "execution_count": 3,
   "metadata": {},
   "outputs": [],
   "source": [
    "bound = Canvas(100,100)"
   ]
  },
  {
   "cell_type": "code",
   "execution_count": 4,
   "metadata": {},
   "outputs": [
    {
     "data": {
      "text/plain": [
       "<matplotlib.image.AxesImage at 0x191bfac7588>"
      ]
     },
     "execution_count": 4,
     "metadata": {},
     "output_type": "execute_result"
    },
    {
     "data": {
      "image/png": "[encoded data removed]",
      "text/plain": [
       "<Figure size 432x288 with 1 Axes>"
      ]
     },
     "metadata": {
      "needs_background": "light"
     },
     "output_type": "display_data"
    }
   ],
   "source": [
    "A1 = np.ones(15*15).reshape(15,15)\n",
    "A1[4:11,4:11] = 0\n",
    "plt.imshow(A1)"
   ]
  },
  {
   "cell_type": "code",
   "execution_count": 5,
   "metadata": {},
   "outputs": [
    {
     "data": {
      "text/plain": [
       "<matplotlib.image.AxesImage at 0x191c2fc4188>"
      ]
     },
     "execution_count": 5,
     "metadata": {},
     "output_type": "execute_result"
    },
    {
     "data": {
      "image/png": "[encoded data removed]",
      "text/plain": [
       "<Figure size 432x288 with 1 Axes>"
      ]
     },
     "metadata": {
      "needs_background": "light"
     },
     "output_type": "display_data"
    }
   ],
   "source": [
    "A2 = np.ones(7*7).reshape(7,7)\n",
    "A2[2:5,2:5] = 0\n",
    "plt.imshow(A2)"
   ]
  },
  {
   "cell_type": "code",
   "execution_count": 6,
   "metadata": {},
   "outputs": [],
   "source": [
    "bound = Canvas(50,30)\n",
    "G1 = Sml_rec(15,15,0,bound,shape=A1)\n",
    "G2 = Sml_rec(7,7,0,bound,shape=A2)\n",
    "G3 = Sml_rec(15,5,0,bound)\n",
    "G4 = Sml_rec(15,5,1,bound)\n",
    "G5 = Sml_rec(5,5,0,bound)\n",
    "G6 = Sml_rec(3,3,0,bound)"
   ]
  },
  {
   "cell_type": "code",
   "execution_count": 7,
   "metadata": {},
   "outputs": [],
   "source": [
    "Ar = G1.phenotype + G2.phenotype + G3.phenotype + G4.phenotype + G5.phenotype + G6.phenotype"
   ]
  },
  {
   "cell_type": "code",
   "execution_count": 8,
   "metadata": {},
   "outputs": [
    {
     "data": {
      "text/plain": [
       "<matplotlib.image.AxesImage at 0x191c3033e88>"
      ]
     },
     "execution_count": 8,
     "metadata": {},
     "output_type": "execute_result"
    },
    {
     "data": {
      "image/png": "[encoded data removed]",
      "text/plain": [
       "<Figure size 432x288 with 1 Axes>"
      ]
     },
     "metadata": {
      "needs_background": "light"
     },
     "output_type": "display_data"
    }
   ],
   "source": [
    "plt.imshow(Ar)"
   ]
  },
  {
   "cell_type": "code",
   "execution_count": 9,
   "metadata": {},
   "outputs": [
    {
     "data": {
      "text/plain": [
       "400.0"
      ]
     },
     "execution_count": 9,
     "metadata": {},
     "output_type": "execute_result"
    }
   ],
   "source": [
    "np.sum(Ar)"
   ]
  },
  {
   "cell_type": "code",
   "execution_count": 10,
   "metadata": {},
   "outputs": [],
   "source": [
    "a = np.sum(Ar, axis = 0)"
   ]
  },
  {
   "cell_type": "code",
   "execution_count": 11,
   "metadata": {},
   "outputs": [
    {
     "data": {
      "text/plain": [
       "array([26, 27, 28, 29, 30, 31, 32, 33, 34, 35, 41, 42, 43, 44, 45, 46, 47,\n",
       "       48, 49], dtype=int64)"
      ]
     },
     "execution_count": 11,
     "metadata": {},
     "output_type": "execute_result"
    }
   ],
   "source": [
    "np.where(a==0)[0]"
   ]
  },
  {
   "cell_type": "code",
   "execution_count": 12,
   "metadata": {},
   "outputs": [
    {
     "data": {
      "text/plain": [
       "50"
      ]
     },
     "execution_count": 12,
     "metadata": {},
     "output_type": "execute_result"
    }
   ],
   "source": [
    "len(a)"
   ]
  },
  {
   "cell_type": "code",
   "execution_count": 13,
   "metadata": {},
   "outputs": [
    {
     "name": "stdout",
     "output_type": "stream",
     "text": [
      "0\n"
     ]
    }
   ],
   "source": [
    "for i,k in enumerate(a):\n",
    "    if k != 0:\n",
    "        print(i)\n",
    "        break"
   ]
  },
  {
   "cell_type": "code",
   "execution_count": 14,
   "metadata": {},
   "outputs": [],
   "source": [
    "A1 = np.ones(15*15).reshape(15,15)\n",
    "A1[4:11,4:11] = 0\n",
    "\n",
    "A2 = np.ones(7*7).reshape(7,7)\n",
    "A2[2:5,2:5] = 0\n",
    "\n",
    "def body(bound):\n",
    "    #bound = Canvas(50,30)\n",
    "    G1 = Sml_rec(15,15,0,bound,shape=A1)\n",
    "    G2 = Sml_rec(7,7,0,bound,shape=A2)\n",
    "    G3 = Sml_rec(15,5,0,bound)\n",
    "    G4 = Sml_rec(15,5,1,bound)\n",
    "    G5 = Sml_rec(5,5,0,bound)\n",
    "    G6 = Sml_rec(3,3,0,bound)\n",
    "    #Ar = G1.phenotype + G2.phenotype + G3.phenotype + G4.phenotype + G5.phenotype + G6.phenotype\n",
    "    \n",
    "    return [G1,G2,G3,G4,G5,G6]\n",
    "\n",
    "def evaluate(Body,show=False):\n",
    "    body = sum([g.phenotype for g in Body])\n",
    "    border = np.where(body>0)\n",
    "    area = body.shape[0]*body.shape[1]\n",
    "    border_score = (border[0][0]*body.shape[1] + border[1][0]*body.shape[0]) / area\n",
    "    \n",
    "    none_overlab_score = np.sum(body <= 1) / area\n",
    "    \n",
    "    if show:\n",
    "        plt.imshow(body)\n",
    "    return 0.5 * border_score + 0.5 * none_overlab_score\n",
    "\n",
    "def fight(pl1, pl2):\n",
    "    if evaluate(pl1)>evaluate(pl2):\n",
    "        return pl1\n",
    "    else:\n",
    "        return pl2\n",
    "    \n",
    "\n",
    "def crossOver(parent1, parent2):\n",
    "\n",
    "    index = math.floor(random.random() * len(parent1))\n",
    "    ch1, ch2 = parent1[index].xover(parent2[index])\n",
    "    parent1[index] = ch1\n",
    "    parent2[index] = ch2\n",
    "\n",
    "\n",
    "    \n",
    "    \n",
    "    return parent1, parent2\n",
    "\n",
    "def mutate(off):\n",
    "    index = math.floor(random.random() * len(parent1))\n",
    "    mu = off[index]\n",
    "    off[index] = mu.mutate()\n",
    "    \n",
    "    return off"
   ]
  },
  {
   "cell_type": "code",
   "execution_count": 15,
   "metadata": {},
   "outputs": [
    {
     "name": "stdout",
     "output_type": "stream",
     "text": [
      "6\n",
      "5\n",
      "50\n",
      "30\n",
      "100011000100\n",
      "100100001000\n",
      "------------------------------\n"
     ]
    },
    {
     "ename": "ValueError",
     "evalue": "low >= high",
     "output_type": "error",
     "traceback": [
      "\u001b[1;31m---------------------------------------------------------------------------\u001b[0m",
      "\u001b[1;31mValueError\u001b[0m                                Traceback (most recent call last)",
      "\u001b[1;32m<ipython-input-15-da4678bb5ff9>\u001b[0m in \u001b[0;36m<module>\u001b[1;34m\u001b[0m\n\u001b[0;32m     24\u001b[0m         \u001b[0mparent2\u001b[0m \u001b[1;33m=\u001b[0m \u001b[0mfight\u001b[0m\u001b[1;33m(\u001b[0m\u001b[0mnew_gen\u001b[0m\u001b[1;33m[\u001b[0m\u001b[0mindex3\u001b[0m\u001b[1;33m]\u001b[0m\u001b[1;33m,\u001b[0m \u001b[0mnew_gen\u001b[0m\u001b[1;33m[\u001b[0m\u001b[0mindex4\u001b[0m\u001b[1;33m]\u001b[0m\u001b[1;33m)\u001b[0m\u001b[1;33m\u001b[0m\u001b[1;33m\u001b[0m\u001b[0m\n\u001b[0;32m     25\u001b[0m \u001b[1;33m\u001b[0m\u001b[0m\n\u001b[1;32m---> 26\u001b[1;33m         \u001b[0moffsprint1\u001b[0m\u001b[1;33m,\u001b[0m \u001b[0moffsprint2\u001b[0m \u001b[1;33m=\u001b[0m \u001b[0mcrossOver\u001b[0m\u001b[1;33m(\u001b[0m\u001b[0mparent1\u001b[0m\u001b[1;33m,\u001b[0m \u001b[0mparent2\u001b[0m\u001b[1;33m)\u001b[0m\u001b[1;33m\u001b[0m\u001b[1;33m\u001b[0m\u001b[0m\n\u001b[0m\u001b[0;32m     27\u001b[0m \u001b[1;33m\u001b[0m\u001b[0m\n\u001b[0;32m     28\u001b[0m         \u001b[1;32mif\u001b[0m \u001b[0mrandom\u001b[0m\u001b[1;33m.\u001b[0m\u001b[0muniform\u001b[0m\u001b[1;33m(\u001b[0m\u001b[1;36m0\u001b[0m\u001b[1;33m,\u001b[0m\u001b[1;36m1\u001b[0m\u001b[1;33m)\u001b[0m\u001b[1;33m<\u001b[0m\u001b[0mp_mutate\u001b[0m\u001b[1;33m:\u001b[0m\u001b[1;33m\u001b[0m\u001b[1;33m\u001b[0m\u001b[0m\n",
      "\u001b[1;32m<ipython-input-14-1b7486d45484>\u001b[0m in \u001b[0;36mcrossOver\u001b[1;34m(parent1, parent2)\u001b[0m\n\u001b[0;32m     39\u001b[0m \u001b[1;33m\u001b[0m\u001b[0m\n\u001b[0;32m     40\u001b[0m     \u001b[0mindex\u001b[0m \u001b[1;33m=\u001b[0m \u001b[0mmath\u001b[0m\u001b[1;33m.\u001b[0m\u001b[0mfloor\u001b[0m\u001b[1;33m(\u001b[0m\u001b[0mrandom\u001b[0m\u001b[1;33m.\u001b[0m\u001b[0mrandom\u001b[0m\u001b[1;33m(\u001b[0m\u001b[1;33m)\u001b[0m \u001b[1;33m*\u001b[0m \u001b[0mlen\u001b[0m\u001b[1;33m(\u001b[0m\u001b[0mparent1\u001b[0m\u001b[1;33m)\u001b[0m\u001b[1;33m)\u001b[0m\u001b[1;33m\u001b[0m\u001b[1;33m\u001b[0m\u001b[0m\n\u001b[1;32m---> 41\u001b[1;33m     \u001b[0mch1\u001b[0m\u001b[1;33m,\u001b[0m \u001b[0mch2\u001b[0m \u001b[1;33m=\u001b[0m \u001b[0mparent1\u001b[0m\u001b[1;33m[\u001b[0m\u001b[0mindex\u001b[0m\u001b[1;33m]\u001b[0m\u001b[1;33m.\u001b[0m\u001b[0mxover\u001b[0m\u001b[1;33m(\u001b[0m\u001b[0mparent2\u001b[0m\u001b[1;33m[\u001b[0m\u001b[0mindex\u001b[0m\u001b[1;33m]\u001b[0m\u001b[1;33m)\u001b[0m\u001b[1;33m\u001b[0m\u001b[1;33m\u001b[0m\u001b[0m\n\u001b[0m\u001b[0;32m     42\u001b[0m     \u001b[0mparent1\u001b[0m\u001b[1;33m[\u001b[0m\u001b[0mindex\u001b[0m\u001b[1;33m]\u001b[0m \u001b[1;33m=\u001b[0m \u001b[0mch1\u001b[0m\u001b[1;33m\u001b[0m\u001b[1;33m\u001b[0m\u001b[0m\n\u001b[0;32m     43\u001b[0m     \u001b[0mparent2\u001b[0m\u001b[1;33m[\u001b[0m\u001b[0mindex\u001b[0m\u001b[1;33m]\u001b[0m \u001b[1;33m=\u001b[0m \u001b[0mch2\u001b[0m\u001b[1;33m\u001b[0m\u001b[1;33m\u001b[0m\u001b[0m\n",
      "\u001b[1;32m<ipython-input-2-0780faeab6c5>\u001b[0m in \u001b[0;36mxover\u001b[1;34m(self, other)\u001b[0m\n\u001b[0;32m     60\u001b[0m         \u001b[0mprint\u001b[0m\u001b[1;33m(\u001b[0m\u001b[0mchd2_dna\u001b[0m\u001b[1;33m)\u001b[0m\u001b[1;33m\u001b[0m\u001b[1;33m\u001b[0m\u001b[0m\n\u001b[0;32m     61\u001b[0m         \u001b[0mprint\u001b[0m\u001b[1;33m(\u001b[0m\u001b[1;34m'-'\u001b[0m\u001b[1;33m*\u001b[0m\u001b[1;36m30\u001b[0m\u001b[1;33m)\u001b[0m\u001b[1;33m\u001b[0m\u001b[1;33m\u001b[0m\u001b[0m\n\u001b[1;32m---> 62\u001b[1;33m         \u001b[0mchd1\u001b[0m \u001b[1;33m=\u001b[0m \u001b[0mSml_rec\u001b[0m\u001b[1;33m(\u001b[0m\u001b[0mint\u001b[0m\u001b[1;33m(\u001b[0m\u001b[0mchd1_dna\u001b[0m\u001b[1;33m[\u001b[0m\u001b[1;33m:\u001b[0m\u001b[0mself\u001b[0m\u001b[1;33m.\u001b[0m\u001b[0mlength_height\u001b[0m\u001b[1;33m]\u001b[0m\u001b[1;33m,\u001b[0m\u001b[1;36m2\u001b[0m\u001b[1;33m)\u001b[0m\u001b[1;33m,\u001b[0m \u001b[0mint\u001b[0m\u001b[1;33m(\u001b[0m\u001b[0mchd1_dna\u001b[0m\u001b[1;33m[\u001b[0m\u001b[0mself\u001b[0m\u001b[1;33m.\u001b[0m\u001b[0mlength_height\u001b[0m\u001b[1;33m:\u001b[0m\u001b[0mself\u001b[0m\u001b[1;33m.\u001b[0m\u001b[0mlength_height\u001b[0m \u001b[1;33m+\u001b[0m \u001b[0mself\u001b[0m\u001b[1;33m.\u001b[0m\u001b[0mlength_width\u001b[0m\u001b[1;33m]\u001b[0m\u001b[1;33m,\u001b[0m\u001b[1;36m2\u001b[0m\u001b[1;33m)\u001b[0m\u001b[1;33m,\u001b[0m \u001b[0mint\u001b[0m\u001b[1;33m(\u001b[0m\u001b[0mchd1_dna\u001b[0m\u001b[1;33m[\u001b[0m\u001b[1;33m-\u001b[0m\u001b[1;36m1\u001b[0m\u001b[1;33m]\u001b[0m\u001b[1;33m,\u001b[0m\u001b[1;36m2\u001b[0m\u001b[1;33m)\u001b[0m\u001b[1;33m,\u001b[0m \u001b[0mself\u001b[0m\u001b[1;33m.\u001b[0m\u001b[0mbound\u001b[0m\u001b[1;33m)\u001b[0m\u001b[1;33m\u001b[0m\u001b[1;33m\u001b[0m\u001b[0m\n\u001b[0m\u001b[0;32m     63\u001b[0m         \u001b[0mchd2\u001b[0m \u001b[1;33m=\u001b[0m \u001b[0mSml_rec\u001b[0m\u001b[1;33m(\u001b[0m\u001b[0mint\u001b[0m\u001b[1;33m(\u001b[0m\u001b[0mchd2_dna\u001b[0m\u001b[1;33m[\u001b[0m\u001b[1;33m:\u001b[0m\u001b[0mself\u001b[0m\u001b[1;33m.\u001b[0m\u001b[0mlength_height\u001b[0m\u001b[1;33m]\u001b[0m\u001b[1;33m,\u001b[0m\u001b[1;36m2\u001b[0m\u001b[1;33m)\u001b[0m\u001b[1;33m,\u001b[0m \u001b[0mint\u001b[0m\u001b[1;33m(\u001b[0m\u001b[0mchd2_dna\u001b[0m\u001b[1;33m[\u001b[0m\u001b[0mself\u001b[0m\u001b[1;33m.\u001b[0m\u001b[0mlength_height\u001b[0m\u001b[1;33m:\u001b[0m\u001b[0mself\u001b[0m\u001b[1;33m.\u001b[0m\u001b[0mlength_height\u001b[0m \u001b[1;33m+\u001b[0m \u001b[0mself\u001b[0m\u001b[1;33m.\u001b[0m\u001b[0mlength_width\u001b[0m\u001b[1;33m]\u001b[0m\u001b[1;33m,\u001b[0m\u001b[1;36m2\u001b[0m\u001b[1;33m)\u001b[0m\u001b[1;33m,\u001b[0m \u001b[0mint\u001b[0m\u001b[1;33m(\u001b[0m\u001b[0mchd2_dna\u001b[0m\u001b[1;33m[\u001b[0m\u001b[1;33m-\u001b[0m\u001b[1;36m1\u001b[0m\u001b[1;33m]\u001b[0m\u001b[1;33m,\u001b[0m\u001b[1;36m2\u001b[0m\u001b[1;33m)\u001b[0m\u001b[1;33m,\u001b[0m \u001b[0mself\u001b[0m\u001b[1;33m.\u001b[0m\u001b[0mbound\u001b[0m\u001b[1;33m)\u001b[0m\u001b[1;33m\u001b[0m\u001b[1;33m\u001b[0m\u001b[0m\n\u001b[0;32m     64\u001b[0m         \u001b[1;32mreturn\u001b[0m \u001b[1;33m(\u001b[0m\u001b[0mchd1\u001b[0m\u001b[1;33m,\u001b[0m \u001b[0mchd2\u001b[0m\u001b[1;33m)\u001b[0m\u001b[1;33m\u001b[0m\u001b[1;33m\u001b[0m\u001b[0m\n",
      "\u001b[1;32m<ipython-input-2-0780faeab6c5>\u001b[0m in \u001b[0;36m__init__\u001b[1;34m(self, height, width, flip, bound, shape)\u001b[0m\n\u001b[0;32m     26\u001b[0m             \u001b[0mself\u001b[0m\u001b[1;33m.\u001b[0m\u001b[0mheight\u001b[0m \u001b[1;33m=\u001b[0m \u001b[0mwidth\u001b[0m\u001b[1;33m\u001b[0m\u001b[1;33m\u001b[0m\u001b[0m\n\u001b[0;32m     27\u001b[0m             \u001b[0mself\u001b[0m\u001b[1;33m.\u001b[0m\u001b[0marea\u001b[0m \u001b[1;33m=\u001b[0m \u001b[0mwidth\u001b[0m \u001b[1;33m*\u001b[0m \u001b[0mheight\u001b[0m\u001b[1;33m\u001b[0m\u001b[1;33m\u001b[0m\u001b[0m\n\u001b[1;32m---> 28\u001b[1;33m             \u001b[0mself\u001b[0m\u001b[1;33m.\u001b[0m\u001b[0mp1\u001b[0m \u001b[1;33m=\u001b[0m \u001b[0mnp\u001b[0m\u001b[1;33m.\u001b[0m\u001b[0mrandom\u001b[0m\u001b[1;33m.\u001b[0m\u001b[0mrandint\u001b[0m\u001b[1;33m(\u001b[0m\u001b[1;36m0\u001b[0m\u001b[1;33m,\u001b[0m \u001b[0mbound\u001b[0m\u001b[1;33m.\u001b[0m\u001b[0mheight\u001b[0m \u001b[1;33m-\u001b[0m \u001b[0mself\u001b[0m\u001b[1;33m.\u001b[0m\u001b[0mheight\u001b[0m\u001b[1;33m)\u001b[0m\u001b[1;33m\u001b[0m\u001b[1;33m\u001b[0m\u001b[0m\n\u001b[0m\u001b[0;32m     29\u001b[0m             \u001b[0mself\u001b[0m\u001b[1;33m.\u001b[0m\u001b[0mp2\u001b[0m \u001b[1;33m=\u001b[0m \u001b[0mnp\u001b[0m\u001b[1;33m.\u001b[0m\u001b[0mrandom\u001b[0m\u001b[1;33m.\u001b[0m\u001b[0mrandint\u001b[0m\u001b[1;33m(\u001b[0m\u001b[1;36m0\u001b[0m\u001b[1;33m,\u001b[0m \u001b[0mbound\u001b[0m\u001b[1;33m.\u001b[0m\u001b[0mwidth\u001b[0m \u001b[1;33m-\u001b[0m \u001b[0mself\u001b[0m\u001b[1;33m.\u001b[0m\u001b[0mwidth\u001b[0m\u001b[1;33m)\u001b[0m\u001b[1;33m\u001b[0m\u001b[1;33m\u001b[0m\u001b[0m\n\u001b[0;32m     30\u001b[0m \u001b[1;33m\u001b[0m\u001b[0m\n",
      "\u001b[1;32mmtrand.pyx\u001b[0m in \u001b[0;36mnumpy.random.mtrand.RandomState.randint\u001b[1;34m()\u001b[0m\n",
      "\u001b[1;32m_bounded_integers.pyx\u001b[0m in \u001b[0;36mnumpy.random._bounded_integers._rand_int32\u001b[1;34m()\u001b[0m\n",
      "\u001b[1;31mValueError\u001b[0m: low >= high"
     ]
    }
   ],
   "source": [
    "n_iter = 50\n",
    "n_sel = 30\n",
    "n_xover = 70\n",
    "p_mutate = 0.2\n",
    "n_pop = n_sel + n_xover\n",
    "\n",
    "bound = Canvas(50,30)\n",
    "\n",
    "pop_list = [body(bound) for _ in range(n_pop)]\n",
    "\n",
    "while i<=n_iter:\n",
    "    i+=1\n",
    "    \n",
    "    pop_eval = [evaluate(b) for b in pop_list]\n",
    "    generation = sorted([[ls,ev] for ls, ev in zip(pop_list, pop_eval)],key=lambda x: x[1],reverse=True)\n",
    "\n",
    "    survivor = [x[0] for x in generation]\n",
    "    new_gen = survivor[:n_sel]\n",
    "\n",
    "    for _ in range(n_sel, n_pop, 2):\n",
    "        index1,index2,index3,index4 = [random.randint(0, n_sel-1) for _ in range(4)]\n",
    "        \n",
    "        parent1 = fight(new_gen[index1], new_gen[index2])\n",
    "        parent2 = fight(new_gen[index3], new_gen[index4])\n",
    "\n",
    "        offsprint1, offsprint2 = crossOver(parent1, parent2)\n",
    "\n",
    "        if random.uniform(0,1)<p_mutate:\n",
    "            offsprint1 = mutate(offsprint1)\n",
    "\n",
    "        new_gen.append(offsprint1)\n",
    "        new_gen.append(offsprint2)\n",
    "        \n",
    "    pop_list = new_gen\n",
    "    \n",
    "    #show\n",
    "    Body = generation[0]\n",
    "    Body = sum([g.phenotype for g in Body])\n",
    "    plt.imshow(body)"
   ]
  },
  {
   "cell_type": "code",
   "execution_count": null,
   "metadata": {},
   "outputs": [],
   "source": []
  }
 ],
 "metadata": {
  "kernelspec": {
   "display_name": "Python 3",
   "language": "python",
   "name": "python3"
  },
  "language_info": {
   "codemirror_mode": {
    "name": "ipython",
    "version": 3
   },
   "file_extension": ".py",
   "mimetype": "text/x-python",
   "name": "python",
   "nbconvert_exporter": "python",
   "pygments_lexer": "ipython3",
   "version": "3.7.4"
  }
 },
 "nbformat": 4,
 "nbformat_minor": 4
}
