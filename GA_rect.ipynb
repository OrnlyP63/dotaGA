{
 "cells": [
  {
   "cell_type": "code",
   "execution_count": 3,
   "metadata": {},
   "outputs": [],
   "source": [
    "import numpy as np\n",
    "import random"
   ]
  },
  {
   "cell_type": "code",
   "execution_count": 1,
   "metadata": {},
   "outputs": [],
   "source": [
    "def cal_dm(atk,df):\n",
    "    dm = abs(atk-df)\n",
    "    if dm > 0:\n",
    "        return dm\n",
    "    else:\n",
    "        return 0\n",
    "    \n",
    "class player:\n",
    "    \n",
    "    def __init__(self,name, ATK, DEF, atk_speed, blood):\n",
    "        self.ATK = ATK\n",
    "        self.DEF = DEF\n",
    "        self.atk_speed = atk_speed\n",
    "        self.blood = blood\n",
    "        self.damage = 0\n",
    "        self.name = name\n",
    "    def attack(self, comp):\n",
    "        \n",
    "        selfDM = cal_dm(comp.ATK, self.DEF)\n",
    "        compDM = cal_dm(self.ATK, comp.DEF)\n",
    "        \n",
    "        selfNumberOfAtk = comp.blood/compDM\n",
    "        compNumberOfAtk = self.blood/selfDM\n",
    "        \n",
    "        selfTimeToDie = compNumberOfAtk*comp.atk_speed\n",
    "        compTimeToDie = selfNumberOfAtk*self.atk_speed\n",
    "        \n",
    "        if selfTimeToDie > compTimeToDie:\n",
    "            #print(f'{self.name} win')\n",
    "            return True\n",
    "        elif selfTimeToDie < compTimeToDie:\n",
    "            #print(f'{comp.name} win')\n",
    "            return False\n",
    "        else:\n",
    "            #print('Die together')\n",
    "            return True"
   ]
  },
  {
   "cell_type": "code",
   "execution_count": 50,
   "metadata": {
    "collapsed": true,
    "jupyter": {
     "outputs_hidden": true
    }
   },
   "outputs": [
    {
     "data": {
      "text/plain": [
       "[<__main__.Sml_rec at 0x1fe16d09188>,\n",
       " <__main__.Sml_rec at 0x1fe17277308>,\n",
       " <__main__.Sml_rec at 0x1fe173664c8>,\n",
       " <__main__.Sml_rec at 0x1fe1726a108>,\n",
       " <__main__.Sml_rec at 0x1fe17366cc8>,\n",
       " <__main__.Sml_rec at 0x1fe17382488>,\n",
       " <__main__.Sml_rec at 0x1fe1727d3c8>,\n",
       " <__main__.Sml_rec at 0x1fe1737d4c8>,\n",
       " <__main__.Sml_rec at 0x1fe1726a488>,\n",
       " <__main__.Sml_rec at 0x1fe17382d08>]"
      ]
     },
     "execution_count": 50,
     "metadata": {},
     "output_type": "execute_result"
    }
   ],
   "source": [
    "class Planet:\n",
    "    def __init__(self, lower_bound, upper_bound):\n",
    "        self.lower_bound = lower_bound\n",
    "        self.upper_bound = upper_bound\n",
    "            \n",
    "class Predator:\n",
    "    def __init__(self, world, animal):\n",
    "        self.number_of_animal = len(animal)\n",
    "        self.possible_to_attack = abs(self.number_of_animal - world.lower_bound) / (world.upper_bound - world.lower_bound)\n",
    "        self.animal = animal\n",
    "        self.predator = random.sample(animal,1)[-1]\n",
    "\n",
    "    def Kill(self):\n",
    "        for _ in range(self.number_of_animal):\n",
    "            if self.possible_to_attack >  random.uniform(0,1):\n",
    "                index = random.randint(0, len(self.animal))\n",
    "                del(self.animal[index])\n",
    "        return self.animal\n",
    "        \n",
    "class Generator:\n",
    "    def __init__(self, world, animal):\n",
    "        self.number_of_animal = len(animal)\n",
    "        self.possible_to_gen = abs(self.number_of_animal - world.upper_bound) / (world.upper_bound - world.lower_bound)\n",
    "        self.animal = animal\n",
    "        self.lover = random.sample(animal,1)[-1]\n",
    "        \n",
    "        \n",
    "class Creator:  \n",
    "    def create_world(self, lower_bound, upper_bound):\n",
    "        return Planet(lower_bound, upper_bound)\n",
    "    \n",
    "    def creat_animal(self, animal_blueprint, number_animal):\n",
    "        return [animal_blueprint, for _ in range(number_animal)]\n",
    "    \n",
    "    def creat_predator(self):\n",
    "        #return sourvivor\n",
    "        return Predator(world, animal):\n",
    "        \n",
    "    def creat_child(self,):\n",
    "        #return newGen"
   ]
  },
  {
   "cell_type": "code",
   "execution_count": 39,
   "metadata": {},
   "outputs": [],
   "source": [
    "class Canvas:\n",
    "    def __init__(self, width, height):\n",
    "        self.width = width\n",
    "        self.height = height\n",
    "        self.area = width * height\n",
    "        \n",
    "class Sml_rec:\n",
    "    def __init__(self, width, height, flip, bound):\n",
    "        \n",
    "        self.f = flip\n",
    "        self.bound = bound\n",
    "        code = '{0:0rb}'.replace('r',f'{len(bin(bound.width))-2}')\n",
    "        if flip:\n",
    "            self.width = width\n",
    "            self.height = height\n",
    "            self.area = width * height\n",
    "            self.p1 = np.random.randint(0, bound.height - self.height)\n",
    "            self.p2 = np.random.randint(0, bound.width - self.width)\n",
    "        else:\n",
    "            \n",
    "            self.width = height\n",
    "            self.height = width\n",
    "            self.area = width * height\n",
    "            self.p1 = np.random.randint(0, bound.height - self.height)\n",
    "            self.p2 = np.random.randint(0, bound.width - self.width)\n",
    "            \n",
    "        self.dna = code.format(self.p1) + code.format(self.p2) + f'{self.f}'\n",
    "\n",
    "        \n",
    "    \n",
    "    def it(self):\n",
    "        a = np.zeros(bound.area).reshape(bound.height,bound.width)\n",
    "        b = np.ones(self.area).reshape(self.height,self.width)\n",
    "        a[self.p1:self.p1 + self.height, self.p2:self.p2 + self.width] = b\n",
    "    \n",
    "        return a\n",
    "    \n",
    "    def xover(self,other):\n",
    "        par1 = self.dna\n",
    "        par2 = other.dna\n",
    "        position1 = np.random.randint(0, len(par1))\n",
    "        position2 = np.random.randint(0, len(par2))\n",
    "        \n",
    "        chd1_dna = par1[:position2] + par2[position1] +  par1[position2+1:]\n",
    "        chd2_dna = par2[:position1] + par1[position1] +  par2[position1+1:]\n",
    "        \n",
    "        chd1 = Sml_rec(int(chd1_dna[:8],2), int(chd1_dna[8:16],2), int(chd1_dna[-1],2), bound)\n",
    "        chd2 = Sml_rec(int(chd2_dna[:8],2), int(chd2_dna[8:16],2), int(chd2_dna[-1],2), bound)\n",
    "        return (chd1, chd2)\n",
    "    \n",
    "    def mutate(self):\n",
    "        position = np.random.randint(0, len(self.dna))\n",
    "        if self.dna[position] == '1':\n",
    "            self.dna = self.dna[:position] + '1' + self.dna[position+1:]\n",
    "        else:\n",
    "            self.dna = self.dna[:position] + '0' + self.dna[position+1:]"
   ]
  },
  {
   "cell_type": "code",
   "execution_count": 2,
   "metadata": {},
   "outputs": [
    {
     "name": "stdout",
     "output_type": "stream",
     "text": [
      "b win\n"
     ]
    }
   ],
   "source": [
    "a = player('a',100,50,1,100)\n",
    "b = player('b',100,50,1,10000)\n",
    "\n",
    "a.attack(b)"
   ]
  },
  {
   "cell_type": "code",
   "execution_count": 4,
   "metadata": {},
   "outputs": [],
   "source": [
    "a = np.zeros(100).reshape(10,10)\n",
    "b = np.ones(4).reshape(2,2)\n",
    "a[4:6, 4:6] = b"
   ]
  },
  {
   "cell_type": "code",
   "execution_count": 5,
   "metadata": {},
   "outputs": [
    {
     "data": {
      "text/plain": [
       "array([[0., 0., 0., 0., 0., 0., 0., 0., 0., 0.],\n",
       "       [0., 0., 0., 0., 0., 0., 0., 0., 0., 0.],\n",
       "       [0., 0., 0., 0., 0., 0., 0., 0., 0., 0.],\n",
       "       [0., 0., 0., 0., 0., 0., 0., 0., 0., 0.],\n",
       "       [0., 0., 0., 0., 2., 2., 0., 0., 0., 0.],\n",
       "       [0., 0., 0., 0., 2., 2., 0., 0., 0., 0.],\n",
       "       [0., 0., 0., 0., 0., 0., 0., 0., 0., 0.],\n",
       "       [0., 0., 0., 0., 0., 0., 0., 0., 0., 0.],\n",
       "       [0., 0., 0., 0., 0., 0., 0., 0., 0., 0.],\n",
       "       [0., 0., 0., 0., 0., 0., 0., 0., 0., 0.]])"
      ]
     },
     "execution_count": 5,
     "metadata": {},
     "output_type": "execute_result"
    }
   ],
   "source": [
    "a + a"
   ]
  },
  {
   "cell_type": "code",
   "execution_count": 49,
   "metadata": {},
   "outputs": [],
   "source": [
    "bound = Canvas(255,255)\n",
    "specie = [Sml_rec(5,2,0,bound) for _ in range(10)] + [Sml_rec(5,3,0,bound) for _ in range(10)] + [Sml_rec(1,4,0,bound) for _ in range(10)]"
   ]
  }
 ],
 "metadata": {
  "kernelspec": {
   "display_name": "Python 3",
   "language": "python",
   "name": "python3"
  },
  "language_info": {
   "codemirror_mode": {
    "name": "ipython",
    "version": 3
   },
   "file_extension": ".py",
   "mimetype": "text/x-python",
   "name": "python",
   "nbconvert_exporter": "python",
   "pygments_lexer": "ipython3",
   "version": "3.7.4"
  }
 },
 "nbformat": 4,
 "nbformat_minor": 4
}
