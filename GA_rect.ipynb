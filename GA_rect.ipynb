{
 "cells": [
  {
   "cell_type": "code",
   "execution_count": 1,
   "metadata": {},
   "outputs": [],
   "source": [
    "def cal_dm(atk,df):\n",
    "    dm = abs(atk-df)\n",
    "    if dm > 0:\n",
    "        return dm\n",
    "    else:\n",
    "        return 0\n",
    "    \n",
    "class player:\n",
    "    \n",
    "    def __init__(self,name, ATK, DEF, atk_speed, blood):\n",
    "        self.ATK = ATK\n",
    "        self.DEF = DEF\n",
    "        self.atk_speed = atk_speed\n",
    "        self.blood = blood\n",
    "        self.damage = 0\n",
    "        self.name = name\n",
    "    def attack(self, comp):\n",
    "        \n",
    "        selfDM = cal_dm(comp.ATK, self.DEF)\n",
    "        compDM = cal_dm(self.ATK, comp.DEF)\n",
    "        \n",
    "        selfNumberOfAtk = comp.blood/compDM\n",
    "        compNumberOfAtk = self.blood/selfDM\n",
    "        \n",
    "        selfTimeToDie = compNumberOfAtk*comp.atk_speed\n",
    "        compTimeToDie = selfNumberOfAtk*self.atk_speed\n",
    "        \n",
    "        if selfTimeToDie > compTimeToDie:\n",
    "            print(f'{self.name} win')   \n",
    "        elif selfTimeToDie < compTimeToDie:\n",
    "            print(f'{comp.name} win')\n",
    "        else:\n",
    "            print('Die together')"
   ]
  },
  {
   "cell_type": "code",
   "execution_count": 2,
   "metadata": {},
   "outputs": [
    {
     "name": "stdout",
     "output_type": "stream",
     "text": [
      "b win\n"
     ]
    }
   ],
   "source": [
    "a = player('a',100,50,1,100)\n",
    "b = player('b',100,50,1,10000)\n",
    "\n",
    "a.attack(b)"
   ]
  },
  {
   "cell_type": "code",
   "execution_count": 3,
   "metadata": {},
   "outputs": [],
   "source": [
    "import numpy as np"
   ]
  },
  {
   "cell_type": "code",
   "execution_count": 4,
   "metadata": {},
   "outputs": [],
   "source": [
    "a = np.zeros(100).reshape(10,10)\n",
    "b = np.ones(4).reshape(2,2)\n",
    "a[4:6, 4:6] = b"
   ]
  },
  {
   "cell_type": "code",
   "execution_count": 5,
   "metadata": {},
   "outputs": [
    {
     "data": {
      "text/plain": [
       "array([[0., 0., 0., 0., 0., 0., 0., 0., 0., 0.],\n",
       "       [0., 0., 0., 0., 0., 0., 0., 0., 0., 0.],\n",
       "       [0., 0., 0., 0., 0., 0., 0., 0., 0., 0.],\n",
       "       [0., 0., 0., 0., 0., 0., 0., 0., 0., 0.],\n",
       "       [0., 0., 0., 0., 2., 2., 0., 0., 0., 0.],\n",
       "       [0., 0., 0., 0., 2., 2., 0., 0., 0., 0.],\n",
       "       [0., 0., 0., 0., 0., 0., 0., 0., 0., 0.],\n",
       "       [0., 0., 0., 0., 0., 0., 0., 0., 0., 0.],\n",
       "       [0., 0., 0., 0., 0., 0., 0., 0., 0., 0.],\n",
       "       [0., 0., 0., 0., 0., 0., 0., 0., 0., 0.]])"
      ]
     },
     "execution_count": 5,
     "metadata": {},
     "output_type": "execute_result"
    }
   ],
   "source": [
    "a + a"
   ]
  },
  {
   "cell_type": "code",
   "execution_count": 6,
   "metadata": {},
   "outputs": [
    {
     "data": {
      "text/plain": [
       "array([[0., 0., 0., 0., 0.],\n",
       "       [0., 0., 0., 0., 0.],\n",
       "       [0., 0., 0., 0., 0.]])"
      ]
     },
     "execution_count": 6,
     "metadata": {},
     "output_type": "execute_result"
    }
   ],
   "source": [
    "a[:3,:5]"
   ]
  },
  {
   "cell_type": "code",
   "execution_count": 7,
   "metadata": {},
   "outputs": [],
   "source": [
    "class Canvas:\n",
    "    def __init__(self, width, height):\n",
    "        self.width = width\n",
    "        self.height = height\n",
    "        self.area = width * height\n",
    "        \n",
    "class Sml_rec:\n",
    "    def __init__(self, width, height, flip, bound):\n",
    "        \n",
    "        self.f = flip\n",
    "        self.bound = bound\n",
    "        if flip:\n",
    "            self.width = width\n",
    "            self.height = height\n",
    "            self.area = width * height\n",
    "            self.p1 = np.random.randint(0, bound.height - self.height)\n",
    "            self.p2 = np.random.randint(0, bound.width - self.width)\n",
    "        else:\n",
    "            \n",
    "            self.width = height\n",
    "            self.height = width\n",
    "            self.area = width * height\n",
    "            self.p1 = np.random.randint(0, bound.height - self.height)\n",
    "            self.p2 = np.random.randint(0, bound.width - self.width)\n",
    "            \n",
    "        self.dna = '{0:08b}'.format(self.p1) + '{0:08b}'.format(self.p2) + f'{self.f}'\n",
    "\n",
    "        \n",
    "    \n",
    "    def it(self):\n",
    "        a = np.zeros(bound.area).reshape(bound.height,bound.width)\n",
    "        b = np.ones(self.area).reshape(self.height,self.width)\n",
    "        a[self.p1:self.p1 + self.height, self.p2:self.p2 + self.width] = b\n",
    "    \n",
    "        return a\n",
    "    \n",
    "    def xover(self,other):\n",
    "        par1 = self.dna\n",
    "        par2 = other.dna\n",
    "        position1 = np.random.randint(0, len(par1))\n",
    "        position2 = np.random.randint(0, len(par2))\n",
    "        \n",
    "        chd1_dna = par1[:position2] + par2[position1] +  par1[position2+1:]\n",
    "        chd2_dna = par2[:position1] + par1[position1] +  par2[position1+1:]\n",
    "        \n",
    "        chd1 = Sml_rec(int(chd1_dna[:8],2), int(chd1_dna[8:16],2), int(chd1_dna[-1],2), bound)\n",
    "        chd2 = Sml_rec(int(chd2_dna[:8],2), int(chd2_dna[8:16],2), int(chd2_dna[-1],2), bound)\n",
    "        return (chd1, chd2)\n",
    "    \n",
    "    def mutate(self):\n",
    "        position = np.random.randint(0, len(self.dna))\n",
    "        if self.dna[position] == '1':\n",
    "            self.dna = self.dna[:position] + '1' + self.dna[position+1:]\n",
    "        else:\n",
    "            self.dna = self.dna[:position] + '0' + self.dna[position+1:]"
   ]
  },
  {
   "cell_type": "code",
   "execution_count": 8,
   "metadata": {},
   "outputs": [],
   "source": [
    "bound = Canvas(255,255)"
   ]
  },
  {
   "cell_type": "code",
   "execution_count": 9,
   "metadata": {},
   "outputs": [],
   "source": [
    "a = Sml_rec(10,5,0,bound)\n",
    "b = Sml_rec(10,5,0,bound)"
   ]
  },
  {
   "cell_type": "code",
   "execution_count": 10,
   "metadata": {},
   "outputs": [],
   "source": [
    "ch1, ch2 = a.xover(b)"
   ]
  },
  {
   "cell_type": "code",
   "execution_count": 11,
   "metadata": {},
   "outputs": [
    {
     "data": {
      "text/plain": [
       "array([[0., 0., 0., ..., 0., 0., 0.],\n",
       "       [0., 0., 0., ..., 0., 0., 0.],\n",
       "       [0., 0., 0., ..., 0., 0., 0.],\n",
       "       ...,\n",
       "       [0., 0., 0., ..., 0., 0., 0.],\n",
       "       [0., 0., 0., ..., 0., 0., 0.],\n",
       "       [0., 0., 0., ..., 0., 0., 0.]])"
      ]
     },
     "execution_count": 11,
     "metadata": {},
     "output_type": "execute_result"
    }
   ],
   "source": [
    "ch1.it()"
   ]
  },
  {
   "cell_type": "code",
   "execution_count": 12,
   "metadata": {},
   "outputs": [
    {
     "data": {
      "text/plain": [
       "'01111101000110000'"
      ]
     },
     "execution_count": 12,
     "metadata": {},
     "output_type": "execute_result"
    }
   ],
   "source": [
    "ch1.dna"
   ]
  },
  {
   "cell_type": "code",
   "execution_count": 13,
   "metadata": {},
   "outputs": [],
   "source": [
    "ch1.mutate()"
   ]
  },
  {
   "cell_type": "code",
   "execution_count": 14,
   "metadata": {},
   "outputs": [
    {
     "data": {
      "text/plain": [
       "'01111101000110000'"
      ]
     },
     "execution_count": 14,
     "metadata": {},
     "output_type": "execute_result"
    }
   ],
   "source": [
    "ch1.dna"
   ]
  }
 ],
 "metadata": {
  "kernelspec": {
   "display_name": "Python 3",
   "language": "python",
   "name": "python3"
  },
  "language_info": {
   "codemirror_mode": {
    "name": "ipython",
    "version": 3
   },
   "file_extension": ".py",
   "mimetype": "text/x-python",
   "name": "python",
   "nbconvert_exporter": "python",
   "pygments_lexer": "ipython3",
   "version": "3.7.4"
  }
 },
 "nbformat": 4,
 "nbformat_minor": 4
}
