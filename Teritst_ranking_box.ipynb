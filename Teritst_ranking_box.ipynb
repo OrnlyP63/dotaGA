{
 "cells": [
  {
   "cell_type": "code",
   "execution_count": 1,
   "metadata": {},
   "outputs": [],
   "source": [
    "import numpy as np\n",
    "import random\n",
    "import matplotlib.pyplot as plt\n",
    "import math\n",
    "from tqdm import tqdm\n",
    "np.random.seed(0)"
   ]
  },
  {
   "cell_type": "code",
   "execution_count": 2,
   "metadata": {},
   "outputs": [],
   "source": [
    "class Canvas:\n",
    "    def __init__(self, width, height):\n",
    "        self.width = width\n",
    "        self.height = height\n",
    "        self.area = width * height\n",
    "        \n",
    "class Sml_rec:\n",
    "    def __init__(self, height, width, bound, shape = None):\n",
    "        \n",
    "        self.bound = bound\n",
    "        self.shape = shape\n",
    "        self.length_width = len(bin(bound.width))-2\n",
    "        code_width = '{0:0rb}'.replace('r',f'{self.length_width}')\n",
    "\n",
    "        self.width = width\n",
    "        self.height = height\n",
    "        self.area = width * height\n",
    "        self.y = np.random.randint(0, bound.width - self.width + 1)\n",
    "\n",
    "        self.dna = code_width.format(self.y)\n",
    "\n",
    "        \n",
    "    def get_dna(self, dna):\n",
    "        self.dna = dna\n",
    "        self.y = int(dna,2)"
   ]
  },
  {
   "cell_type": "code",
   "execution_count": 3,
   "metadata": {},
   "outputs": [],
   "source": [
    "class Body:\n",
    "    def __init__(self, organ, canvas):\n",
    "        self.organ = organ\n",
    "        self.bound = canvas\n",
    "        self.body = sorted([Sml_rec(o[0], o[1], canvas, o[2]) for o in organ], key = lambda x: x.area, reverse=True)\n",
    "        self.dna = ''.join([b.dna for b in self.body])\n",
    "        self.total_area = sum([b.area for b in self.body])\n",
    "        self.dna_length = len(self.dna)\n",
    "        self.num_of_organ = len(self.body)\n",
    "        self.dna_length_per_organ = self.dna_length // self.num_of_organ\n",
    "        \n",
    "    def xover(self, other):\n",
    "        \n",
    "        point = random.randint(0, self.dna_length)\n",
    "        chl1_body = Body(self.organ, self.bound)\n",
    "        chl2_body = Body(self.organ, self.bound)\n",
    "        \n",
    "        chl1_body.dna = self.dna[:point] + other.dna[point:]\n",
    "        chl2_body.dna = other.dna[:point] + self.dna[point:]\n",
    "        \n",
    "        chl1_body.tranform_dna()\n",
    "        chl2_body.tranform_dna()\n",
    "        \n",
    "\n",
    "        return chl1_body, chl2_body\n",
    "    \n",
    "    def mutate(self):\n",
    "        position = np.random.randint(0, self.dna_length)\n",
    "        \n",
    "        if self.dna[position] == '1':\n",
    "            self.dna = self.dna[:position] + '1' + self.dna[position+1:]\n",
    "        else:\n",
    "            self.dna = self.dna[:position] + '0' + self.dna[position+1:]\n",
    "        \n",
    "        self.tranform_dna()\n",
    "            \n",
    "    def tranform_dna(self):\n",
    "        dna = [self.dna[i*self.dna_length_per_organ:i*self.dna_length_per_organ + self.dna_length_per_organ] for i in range(len(self.body)) ]\n",
    "        \n",
    "        for i in range(len(dna)):\n",
    "            self.body[i].get_dna(dna[i])\n",
    "            \n",
    "    def score(self,show=False):\n",
    "        a = np.zeros(self.bound.area).reshape(self.bound.width, self.bound.height)\n",
    "        for b in self.body:\n",
    "            for i in range(self.bound.height - b.height + 1):\n",
    "                box = np.zeros(self.bound.area).reshape(self.bound.width, self.bound.height)\n",
    "                box[i : i + b.height, b.y : b.y + b.width] = 1\n",
    "                if np.any(a+box > 1):\n",
    "                    pass\n",
    "                else:\n",
    "                    p = i\n",
    "                    \n",
    "            a[p : p + b.height, b.y : b.y + b.width] = 1\n",
    "            \n",
    "        bound = np.where(a>0)\n",
    "        used_area = (max(bound[0]) - min(bound[0])) * (max(bound[1]) - min(bound[1]))\n",
    "        \n",
    "        if show:\n",
    "            print(used_area)\n",
    "            plt.imshow(a)\n",
    "            plt.show()\n",
    "            \n",
    "        return [used_area]\n",
    "    \n",
    "    def fight(self, other):\n",
    "        \n",
    "        scores = np.array([self.score(), other.score()])\n",
    "        if all(scores[1] >= scores[0]) and any(scores[1] > scores[0]):\n",
    "            return self\n",
    "        else:\n",
    "            return other"
   ]
  },
  {
   "cell_type": "code",
   "execution_count": 4,
   "metadata": {},
   "outputs": [
    {
     "name": "stderr",
     "output_type": "stream",
     "text": [
      "100%|██████████████████████████████████████████████████████████████████████████████████| 10/10 [00:49<00:00,  4.94s/it]\n"
     ]
    }
   ],
   "source": [
    "n_iter = 10\n",
    "n_sel = 200\n",
    "n_xover = 300\n",
    "p_mutate = 0.3\n",
    "n_pop = n_sel + n_xover\n",
    "\n",
    "#Init population\n",
    "max_score = [0,0]\n",
    "A1 = np.ones(15*15).reshape(15,15)\n",
    "A1[4:11,4:11] = 0\n",
    "\n",
    "A2 = np.ones(7*7).reshape(7,7)\n",
    "A2[2:5,2:5] = 0\n",
    "\n",
    "bound = Canvas(40,40)\n",
    "organ = [[15,15, A1],[7,7, A2],[15,5,None],[15,5,None],[5,5, None], [3,3, None],[15,5,None],[7,7, A2],[15,15, A1],[15,5,None]]\n",
    "pop_list = [Body(organ, bound) for _ in range(n_pop)]\n",
    "\n",
    "for _ in tqdm(range(n_iter)):\n",
    "    #Evaluate fitness\n",
    "    generation = sorted(pop_list, key=lambda x: x.score()[-1], reverse=False)\n",
    "    \n",
    "    #Select parent\n",
    "    new_gen = generation[:n_sel]\n",
    "    \n",
    "    #Cross over\n",
    "    for _ in range(n_sel, n_pop, 2):\n",
    "        \n",
    "        index1,index2,index3,index4 = [random.randint(0, n_sel-1) for _ in range(4)]\n",
    "\n",
    "        parent1 = new_gen[index1].fight(new_gen[index2])\n",
    "        parent2 = new_gen[index3].fight(new_gen[index4])\n",
    "        \n",
    "        offsprint1, offsprint2 = parent1.xover(parent2)\n",
    "        \n",
    "        #Permutation    \n",
    "        if random.uniform(0,1) < p_mutate:\n",
    "            offsprint1.mutate()\n",
    "            offsprint2.mutate()\n",
    "        new_gen.append(offsprint1)\n",
    "        new_gen.append(offsprint2)\n",
    "        \n",
    "    #New generation\n",
    "    pop_list = new_gen"
   ]
  },
  {
   "cell_type": "code",
   "execution_count": 7,
   "metadata": {},
   "outputs": [
    {
     "name": "stdout",
     "output_type": "stream",
     "text": [
      "individual 0\n",
      "504\n"
     ]
    },
    {
     "data": {
      "image/png": "[encoded data removed]",
      "text/plain": [
       "<Figure size 432x288 with 1 Axes>"
      ]
     },
     "metadata": {
      "needs_background": "light"
     },
     "output_type": "display_data"
    },
    {
     "name": "stdout",
     "output_type": "stream",
     "text": [
      "--------------------------------------------------\n",
      "individual 1\n",
      "504\n"
     ]
    },
    {
     "data": {
      "image/png": "[encoded data removed]",
      "text/plain": [
       "<Figure size 432x288 with 1 Axes>"
      ]
     },
     "metadata": {
      "needs_background": "light"
     },
     "output_type": "display_data"
    },
    {
     "name": "stdout",
     "output_type": "stream",
     "text": [
      "--------------------------------------------------\n",
      "individual 2\n",
      "504\n"
     ]
    },
    {
     "data": {
      "image/png": "[encoded data removed]",
      "text/plain": [
       "<Figure size 432x288 with 1 Axes>"
      ]
     },
     "metadata": {
      "needs_background": "light"
     },
     "output_type": "display_data"
    },
    {
     "name": "stdout",
     "output_type": "stream",
     "text": [
      "--------------------------------------------------\n",
      "individual 3\n",
      "504\n"
     ]
    },
    {
     "data": {
      "image/png": "[encoded data removed]",
      "text/plain": [
       "<Figure size 432x288 with 1 Axes>"
      ]
     },
     "metadata": {
      "needs_background": "light"
     },
     "output_type": "display_data"
    },
    {
     "name": "stdout",
     "output_type": "stream",
     "text": [
      "--------------------------------------------------\n",
      "individual 4\n",
      "540\n"
     ]
    },
    {
     "data": {
      "image/png": "[encoded data removed]",
      "text/plain": [
       "<Figure size 432x288 with 1 Axes>"
      ]
     },
     "metadata": {
      "needs_background": "light"
     },
     "output_type": "display_data"
    },
    {
     "name": "stdout",
     "output_type": "stream",
     "text": [
      "--------------------------------------------------\n",
      "individual 5\n",
      "540\n"
     ]
    },
    {
     "data": {
      "image/png": "[encoded data removed]",
      "text/plain": [
       "<Figure size 432x288 with 1 Axes>"
      ]
     },
     "metadata": {
      "needs_background": "light"
     },
     "output_type": "display_data"
    },
    {
     "name": "stdout",
     "output_type": "stream",
     "text": [
      "--------------------------------------------------\n",
      "individual 6\n",
      "540\n"
     ]
    },
    {
     "data": {
      "image/png": "[encoded data removed]",
      "text/plain": [
       "<Figure size 432x288 with 1 Axes>"
      ]
     },
     "metadata": {
      "needs_background": "light"
     },
     "output_type": "display_data"
    },
    {
     "name": "stdout",
     "output_type": "stream",
     "text": [
      "--------------------------------------------------\n",
      "individual 7\n",
      "540\n"
     ]
    },
    {
     "data": {
      "image/png": "[encoded data removed]",
      "text/plain": [
       "<Figure size 432x288 with 1 Axes>"
      ]
     },
     "metadata": {
      "needs_background": "light"
     },
     "output_type": "display_data"
    },
    {
     "name": "stdout",
     "output_type": "stream",
     "text": [
      "--------------------------------------------------\n",
      "individual 8\n",
      "540\n"
     ]
    },
    {
     "data": {
      "image/png": "[encoded data removed]",
      "text/plain": [
       "<Figure size 432x288 with 1 Axes>"
      ]
     },
     "metadata": {
      "needs_background": "light"
     },
     "output_type": "display_data"
    },
    {
     "name": "stdout",
     "output_type": "stream",
     "text": [
      "--------------------------------------------------\n",
      "individual 9\n",
      "540\n"
     ]
    },
    {
     "data": {
      "image/png": "[encoded data removed]",
      "text/plain": [
       "<Figure size 432x288 with 1 Axes>"
      ]
     },
     "metadata": {
      "needs_background": "light"
     },
     "output_type": "display_data"
    },
    {
     "name": "stdout",
     "output_type": "stream",
     "text": [
      "--------------------------------------------------\n",
      "individual 10\n",
      "540\n"
     ]
    },
    {
     "data": {
      "image/png": "[encoded data removed]",
      "text/plain": [
       "<Figure size 432x288 with 1 Axes>"
      ]
     },
     "metadata": {
      "needs_background": "light"
     },
     "output_type": "display_data"
    },
    {
     "name": "stdout",
     "output_type": "stream",
     "text": [
      "--------------------------------------------------\n",
      "individual 11\n",
      "540\n"
     ]
    },
    {
     "data": {
      "image/png": "[encoded data removed]",
      "text/plain": [
       "<Figure size 432x288 with 1 Axes>"
      ]
     },
     "metadata": {
      "needs_background": "light"
     },
     "output_type": "display_data"
    },
    {
     "name": "stdout",
     "output_type": "stream",
     "text": [
      "--------------------------------------------------\n",
      "individual 12\n",
      "540\n"
     ]
    },
    {
     "data": {
      "image/png": "[encoded data removed]",
      "text/plain": [
       "<Figure size 432x288 with 1 Axes>"
      ]
     },
     "metadata": {
      "needs_background": "light"
     },
     "output_type": "display_data"
    },
    {
     "name": "stdout",
     "output_type": "stream",
     "text": [
      "--------------------------------------------------\n",
      "individual 13\n",
      "540\n"
     ]
    },
    {
     "data": {
      "image/png": "[encoded data removed]",
      "text/plain": [
       "<Figure size 432x288 with 1 Axes>"
      ]
     },
     "metadata": {
      "needs_background": "light"
     },
     "output_type": "display_data"
    },
    {
     "name": "stdout",
     "output_type": "stream",
     "text": [
      "--------------------------------------------------\n",
      "individual 14\n",
      "540\n"
     ]
    },
    {
     "data": {
      "image/png": "[encoded data removed]",
      "text/plain": [
       "<Figure size 432x288 with 1 Axes>"
      ]
     },
     "metadata": {
      "needs_background": "light"
     },
     "output_type": "display_data"
    },
    {
     "name": "stdout",
     "output_type": "stream",
     "text": [
      "--------------------------------------------------\n",
      "individual 15\n",
      "540\n"
     ]
    },
    {
     "data": {
      "image/png": "[encoded data removed]",
      "text/plain": [
       "<Figure size 432x288 with 1 Axes>"
      ]
     },
     "metadata": {
      "needs_background": "light"
     },
     "output_type": "display_data"
    },
    {
     "name": "stdout",
     "output_type": "stream",
     "text": [
      "--------------------------------------------------\n",
      "individual 16\n",
      "540\n"
     ]
    },
    {
     "data": {
      "image/png": "[encoded data removed]",
      "text/plain": [
       "<Figure size 432x288 with 1 Axes>"
      ]
     },
     "metadata": {
      "needs_background": "light"
     },
     "output_type": "display_data"
    },
    {
     "name": "stdout",
     "output_type": "stream",
     "text": [
      "--------------------------------------------------\n",
      "individual 17\n",
      "540\n"
     ]
    },
    {
     "data": {
      "image/png": "[encoded data removed]",
      "text/plain": [
       "<Figure size 432x288 with 1 Axes>"
      ]
     },
     "metadata": {
      "needs_background": "light"
     },
     "output_type": "display_data"
    },
    {
     "name": "stdout",
     "output_type": "stream",
     "text": [
      "--------------------------------------------------\n",
      "individual 18\n",
      "540\n"
     ]
    },
    {
     "data": {
      "image/png": "[encoded data removed]",
      "text/plain": [
       "<Figure size 432x288 with 1 Axes>"
      ]
     },
     "metadata": {
      "needs_background": "light"
     },
     "output_type": "display_data"
    },
    {
     "name": "stdout",
     "output_type": "stream",
     "text": [
      "--------------------------------------------------\n",
      "individual 19\n",
      "540\n"
     ]
    },
    {
     "data": {
      "image/png": "[encoded data removed]",
      "text/plain": [
       "<Figure size 432x288 with 1 Axes>"
      ]
     },
     "metadata": {
      "needs_background": "light"
     },
     "output_type": "display_data"
    },
    {
     "name": "stdout",
     "output_type": "stream",
     "text": [
      "--------------------------------------------------\n"
     ]
    }
   ],
   "source": [
    "for i in range(20):\n",
    "    print(f'individual {i}')\n",
    "    pop_list[i].score(show=True)\n",
    "    print(50*'-')"
   ]
  }
 ],
 "metadata": {
  "kernelspec": {
   "display_name": "Python 3",
   "language": "python",
   "name": "python3"
  },
  "language_info": {
   "codemirror_mode": {
    "name": "ipython",
    "version": 3
   },
   "file_extension": ".py",
   "mimetype": "text/x-python",
   "name": "python",
   "nbconvert_exporter": "python",
   "pygments_lexer": "ipython3",
   "version": "3.7.4"
  }
 },
 "nbformat": 4,
 "nbformat_minor": 4
}
