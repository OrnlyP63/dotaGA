{
 "cells": [
  {
   "cell_type": "code",
   "execution_count": 1,
   "metadata": {},
   "outputs": [],
   "source": [
    "import numpy as np\n",
    "import random\n",
    "import matplotlib.pyplot as plt\n",
    "import math\n",
    "np.random.seed(0)"
   ]
  },
  {
   "cell_type": "code",
   "execution_count": 5,
   "metadata": {},
   "outputs": [],
   "source": [
    "class Canvas:\n",
    "    def __init__(self, width, height):\n",
    "        self.width = width\n",
    "        self.height = height\n",
    "        self.area = width * height\n",
    "        \n",
    "        \n",
    "class Sml_rec:\n",
    "    \n",
    "    def __init__(self, height, width, flip, bound, shape = None):\n",
    "        \n",
    "        self.f = flip\n",
    "        self.bound = bound\n",
    "        self.shape = shape\n",
    "        self.length_width = len(bin(bound.width))-2\n",
    "        self.length_height = len(bin(bound.height))-2\n",
    "        code_width = '{0:0rb}'.replace('r',f'{self.length_width}')\n",
    "        code_height = '{0:0rb}'.replace('r',f'{self.length_height}')\n",
    "        \n",
    "        if flip:\n",
    "            self.width = width\n",
    "            self.height = height\n",
    "            self.area = width * height\n",
    "            self.p1 = np.random.randint(0, bound.height - self.height + 1)\n",
    "            self.p2 = np.random.randint(0, bound.width - self.width + 1)\n",
    "        else:\n",
    "            self.width = height\n",
    "            self.height = width\n",
    "            self.area = width * height\n",
    "            self.p1 = np.random.randint(0, bound.height - self.height)\n",
    "            self.p2 = np.random.randint(0, bound.width - self.width)\n",
    "            \n",
    "        self.dna = code_height.format(self.p1) + code_width.format(self.p2) + f'{self.f}'\n",
    "\n",
    "    \n",
    "        if self.shape is None:\n",
    "            a = np.zeros(bound.area).reshape(bound.height,bound.width)\n",
    "            a[self.p1:self.p1 + self.height, self.p2:self.p2 + self.width] = 1\n",
    "        \n",
    "        else:\n",
    "            a = np.zeros(bound.area).reshape(bound.height,bound.width)\n",
    "            a[self.p1:self.p1 + self.height, self.p2:self.p2 + self.width] = self.shape\n",
    "            \n",
    "        self.phenotype = a\n",
    "        \n",
    "        \n",
    "class Body:\n",
    "    def __init__(self, organ, canvas):\n",
    "        self.organ = organ\n",
    "        self.canvas = canvas\n",
    "        self.body = [Sml_rec(o[0], o[1], o[2], canvas, o[3]) for o in organ]\n",
    "        self.dna = ''.join([b.dna for b in self.body])\n",
    "        self.dna_length = len(self.dna)\n",
    "        self.num_of_organ = len(self.body)\n",
    "        self.dna_length_per_organ = self.dna_length // self.num_of_organ\n",
    "        \n",
    "#     def split_part(a, n):\n",
    "#         k, m = divmod(len(a), n)\n",
    "#         return (a[i * k + min(i, m):(i + 1) * k + min(i + 1, m)] for i in range(n))\n",
    "    \n",
    "    def xover(self, other):\n",
    "        index = math.floor(random.random() * self.dna_length)\n",
    "        chl1_dna = self.dna[:index] + other.dna[index:]\n",
    "        chl2_dna = other.dna[:index] + self.dna[index:]\n",
    "        \n",
    "        chl1_body = Body(self.organ, self.canvas)\n",
    "        chl1_body.dna = chl1_dna\n",
    "        \n",
    "        chl2_body = Body(self.organ, self.canvas)\n",
    "        chl2_body.dna = chl2_dna\n",
    "        \n",
    "        return chl1_body, chl2_body\n",
    "    \n",
    "    def mutate(self):\n",
    "        position = np.random.randint(0, self.dna_length)\n",
    "        \n",
    "        if self.dna[position] == '1':\n",
    "            self.dna = self.dna[:position] + '1' + self.dna[position+1:]\n",
    "        else:\n",
    "            self.dna = self.dna[:position] + '0' + self.dna[position+1:]\n",
    "            \n",
    "    def evaluate(self, show=False):\n",
    "        \n",
    "        b = sum([g.phenotype for g in self.body])\n",
    "        \n",
    "        border = np.where(b>0)\n",
    "        area = b.shape[0]*b.shape[1]\n",
    "\n",
    "        border_score = (border[0][0]*b.shape[1] + border[1][0]*b.shape[0]) / area\n",
    "\n",
    "        none_overlab_score = np.sum(b <= 1) / area\n",
    "\n",
    "        if show:\n",
    "            plt.imshow(b)\n",
    "            \n",
    "        return 0.1 * border_score + 0.9 * none_overlab_score\n",
    "        #return border_score\n",
    "    \n",
    "    def fight(self, other):\n",
    "        if self.evaluate() > other.evaluate():\n",
    "            return self\n",
    "        else:\n",
    "            return other"
   ]
  },
  {
   "cell_type": "code",
   "execution_count": 6,
   "metadata": {},
   "outputs": [
    {
     "name": "stdout",
     "output_type": "stream",
     "text": [
      "0.9886666666666667\n",
      "0.998\n",
      "1.0010000000000001\n",
      "1.0010666666666668\n",
      "1.0116666666666667\n",
      "1.0118\n",
      "1.0126\n",
      "1.0148666666666666\n",
      "1.0168\n",
      "1.0266666666666666\n"
     ]
    }
   ],
   "source": [
    "n_iter = 1000\n",
    "n_sel = 500\n",
    "n_xover = 500\n",
    "p_mutate = 0.2\n",
    "n_pop = n_sel + n_xover\n",
    "i = 0\n",
    "max_score = 0\n",
    "A1 = np.ones(15*15).reshape(15,15)\n",
    "A1[4:11,4:11] = 0\n",
    "\n",
    "A2 = np.ones(7*7).reshape(7,7)\n",
    "A2[2:5,2:5] = 0\n",
    "\n",
    "bound = Canvas(50,30)\n",
    "organ = [[15,15,0,A1], [7,7,0, A2], [15,5,0,None], [15,5,1,None], [5,5,0, None], [3,3,0, None]]\n",
    "pop_list = [Body(organ, bound) for _ in range(n_pop)]\n",
    "\n",
    "while i <= n_iter:\n",
    "\n",
    "    i+=1\n",
    "\n",
    "    pop_eval = [b.evaluate() for b in pop_list]\n",
    "\n",
    "    generation = sorted([[ls,ev] for ls, ev in zip(pop_list, pop_eval)],key=lambda x: x[1],reverse=True)\n",
    " \n",
    "    survivor = [x[0] for x in generation]\n",
    "\n",
    "    new_gen = survivor[:n_sel]\n",
    "    \n",
    "            \n",
    "    for _ in range(n_sel, n_pop, 2):\n",
    "        \n",
    "        index1,index2,index3,index4 = [random.randint(0, n_sel-1) for _ in range(4)]\n",
    "\n",
    "        parent1 = new_gen[index1].fight(new_gen[index2])\n",
    "        parent2 = new_gen[index3].fight(new_gen[index4])\n",
    "        \n",
    "        offsprint1, offsprint2 = parent1.xover(parent2)\n",
    "        \n",
    "            \n",
    "        if random.uniform(0,1) < p_mutate:\n",
    "            offsprint1.mutate()\n",
    "\n",
    "        new_gen.append(offsprint1)\n",
    "        new_gen.append(offsprint2)\n",
    "        \n",
    "    pop_list = new_gen\n",
    "    if generation[0][1] > max_score:\n",
    "        max_score = generation[0][1]\n",
    "        print(max_score)\n"
   ]
  },
  {
   "cell_type": "code",
   "execution_count": 7,
   "metadata": {},
   "outputs": [
    {
     "data": {
      "text/plain": [
       "1.0266666666666666"
      ]
     },
     "execution_count": 7,
     "metadata": {},
     "output_type": "execute_result"
    },
    {
     "data": {
      "image/png": "[encoded data removed]",
      "text/plain": [
       "<Figure size 432x288 with 1 Axes>"
      ]
     },
     "metadata": {
      "needs_background": "light"
     },
     "output_type": "display_data"
    }
   ],
   "source": [
    "generation[0][0].evaluate(show=True)"
   ]
  },
  {
   "cell_type": "code",
   "execution_count": null,
   "metadata": {},
   "outputs": [],
   "source": []
  }
 ],
 "metadata": {
  "kernelspec": {
   "display_name": "Python 3",
   "language": "python",
   "name": "python3"
  },
  "language_info": {
   "codemirror_mode": {
    "name": "ipython",
    "version": 3
   },
   "file_extension": ".py",
   "mimetype": "text/x-python",
   "name": "python",
   "nbconvert_exporter": "python",
   "pygments_lexer": "ipython3",
   "version": "3.7.4"
  }
 },
 "nbformat": 4,
 "nbformat_minor": 4
}
