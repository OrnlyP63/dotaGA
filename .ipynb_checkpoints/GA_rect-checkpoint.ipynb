{
 "cells": [
  {
   "cell_type": "code",
   "execution_count": 22,
   "metadata": {},
   "outputs": [],
   "source": [
    "def cal_dm(atk,df):\n",
    "    dm = abs(atk-df)\n",
    "    if dm > 0:\n",
    "        return dm\n",
    "    else:\n",
    "        return 0\n",
    "    \n",
    "class player:\n",
    "    \n",
    "    def __init__(self,name, ATK, DEF, atk_speed, blood):\n",
    "        self.ATK = ATK\n",
    "        self.DEF = DEF\n",
    "        self.atk_speed = atk_speed\n",
    "        self.blood = blood\n",
    "        self.damage = 0\n",
    "        self.name = name\n",
    "    def attack(self, comp):\n",
    "        \n",
    "        selfDM = cal_dm(comp.ATK, self.DEF)\n",
    "        compDM = cal_dm(self.ATK, comp.DEF)\n",
    "        \n",
    "        selfNumberOfAtk = comp.blood/compDM\n",
    "        compNumberOfAtk = self.blood/selfDM\n",
    "        \n",
    "        selfTimeToDie = compNumberOfAtk*comp.atk_speed\n",
    "        compTimeToDie = selfNumberOfAtk*self.atk_speed\n",
    "        \n",
    "        if selfTimeToDie > compTimeToDie:\n",
    "            print(f'{self.name} win')   \n",
    "        elif selfTimeToDie < compTimeToDie:\n",
    "            print(f'{comp.name} win')\n",
    "        else:\n",
    "            print('Die together')"
   ]
  },
  {
   "cell_type": "code",
   "execution_count": 24,
   "metadata": {},
   "outputs": [
    {
     "name": "stdout",
     "output_type": "stream",
     "text": [
      "b win\n"
     ]
    }
   ],
   "source": [
    "a = player('a',100,50,1,100)\n",
    "b = player('b',100,50,1,10000)\n",
    "\n",
    "a.attack(b)"
   ]
  },
  {
   "cell_type": "code",
   "execution_count": 25,
   "metadata": {},
   "outputs": [],
   "source": [
    "import numpy as np"
   ]
  },
  {
   "cell_type": "code",
   "execution_count": 27,
   "metadata": {},
   "outputs": [],
   "source": [
    "a = np.zeros(100).reshape(10,10)\n",
    "b = np.ones(4).reshape(2,2)\n",
    "a[4:6, 4:6] = b"
   ]
  },
  {
   "cell_type": "code",
   "execution_count": 33,
   "metadata": {},
   "outputs": [
    {
     "data": {
      "text/plain": [
       "array([[0., 0., 0., 0., 0., 0., 0., 0., 0., 0.],\n",
       "       [0., 0., 0., 0., 0., 0., 0., 0., 0., 0.],\n",
       "       [0., 0., 0., 0., 0., 0., 0., 0., 0., 0.],\n",
       "       [0., 0., 0., 0., 0., 0., 0., 0., 0., 0.],\n",
       "       [0., 0., 0., 0., 2., 2., 0., 0., 0., 0.],\n",
       "       [0., 0., 0., 0., 2., 2., 0., 0., 0., 0.],\n",
       "       [0., 0., 0., 0., 0., 0., 0., 0., 0., 0.],\n",
       "       [0., 0., 0., 0., 0., 0., 0., 0., 0., 0.],\n",
       "       [0., 0., 0., 0., 0., 0., 0., 0., 0., 0.],\n",
       "       [0., 0., 0., 0., 0., 0., 0., 0., 0., 0.]])"
      ]
     },
     "execution_count": 33,
     "metadata": {},
     "output_type": "execute_result"
    }
   ],
   "source": [
    "a + a"
   ]
  },
  {
   "cell_type": "code",
   "execution_count": 31,
   "metadata": {},
   "outputs": [
    {
     "data": {
      "text/plain": [
       "array([[0., 0., 0., 0., 0.],\n",
       "       [0., 0., 0., 0., 0.],\n",
       "       [0., 0., 0., 0., 0.]])"
      ]
     },
     "execution_count": 31,
     "metadata": {},
     "output_type": "execute_result"
    }
   ],
   "source": [
    "a[:3,:5]"
   ]
  },
  {
   "cell_type": "code",
   "execution_count": 93,
   "metadata": {},
   "outputs": [],
   "source": [
    "class Canvas:\n",
    "    def __init__(self, width, height):\n",
    "        self.width = width\n",
    "        self.height = height\n",
    "        self.area = width * height\n",
    "        \n",
    "class Sml_rec:\n",
    "    def __init__(self, width, height, flip, bound):\n",
    "        \n",
    "        self.f = flip\n",
    "        \n",
    "        if flip:\n",
    "            self.width = width\n",
    "            self.height = height\n",
    "            self.area = width * height\n",
    "            self.p1 = np.random.randint(0, bound.height - self.height)\n",
    "            self.p2 = np.random.randint(0, bound.width - self.width)\n",
    "        else:\n",
    "            self.width = height\n",
    "            self.height = width\n",
    "            self.area = width * height\n",
    "            self.p1 = np.random.randint(0, bound.height - self.height)\n",
    "            self.p2 = np.random.randint(0, bound.width - self.width)\n",
    "        \n",
    "\n",
    "        \n",
    "    def dna(self):\n",
    "        return '{0:04b}'.format(self.width) + '{0:04b}'.format(self.height) + f'{self.f}'\n",
    "    \n",
    "    def it(self):\n",
    "        a = np.zeros(bound.area).reshape(bound.height,bound.width)\n",
    "        b = np.ones(self.area).reshape(self.height,self.width)\n",
    "        a[self.p1:self.p1 + self.height, self.p2:self.p2 + self.width] = b\n",
    "    \n",
    "        return a\n",
    "    \n",
    "    def xover(self,other):\n",
    "        par1 = self.dna\n",
    "        par2 = other.dna\n",
    "        position1 = np.random.randint(0, len(par1))\n",
    "        position2 = np.random.randint(0, len(par2))\n",
    "        \n",
    "        chd1_dna = par1[:position2] + par2[position1] +  par1[position2+1:]\n",
    "        chd2_dna = par2[:position1] + par1[position1] +  par2[position1+1:]\n",
    "        \n",
    "        Sml_rec(int(chd1_dna[:4]), int(chd1_dna[4:8]), int(chd1_dna[-1]))\n",
    "        \n",
    "        return (chd1, chd2)"
   ]
  },
  {
   "cell_type": "code",
   "execution_count": 94,
   "metadata": {},
   "outputs": [],
   "source": [
    "bound = Canvas(100,100)"
   ]
  },
  {
   "cell_type": "code",
   "execution_count": 95,
   "metadata": {},
   "outputs": [],
   "source": [
    "a = Sml_rec(10,5,0,bound)"
   ]
  },
  {
   "cell_type": "code",
   "execution_count": 96,
   "metadata": {},
   "outputs": [
    {
     "data": {
      "text/plain": [
       "array([[0., 0., 0., ..., 0., 0., 0.],\n",
       "       [0., 0., 0., ..., 0., 0., 0.],\n",
       "       [0., 0., 0., ..., 0., 0., 0.],\n",
       "       ...,\n",
       "       [0., 0., 0., ..., 0., 0., 0.],\n",
       "       [0., 0., 0., ..., 0., 0., 0.],\n",
       "       [0., 0., 0., ..., 0., 0., 0.]])"
      ]
     },
     "execution_count": 96,
     "metadata": {},
     "output_type": "execute_result"
    }
   ],
   "source": [
    "a.it()"
   ]
  },
  {
   "cell_type": "code",
   "execution_count": 98,
   "metadata": {},
   "outputs": [
    {
     "data": {
      "text/plain": [
       "'010110100'"
      ]
     },
     "execution_count": 98,
     "metadata": {},
     "output_type": "execute_result"
    }
   ],
   "source": [
    "a.dna()"
   ]
  }
 ],
 "metadata": {
  "kernelspec": {
   "display_name": "Python 3",
   "language": "python",
   "name": "python3"
  },
  "language_info": {
   "codemirror_mode": {
    "name": "ipython",
    "version": 3
   },
   "file_extension": ".py",
   "mimetype": "text/x-python",
   "name": "python",
   "nbconvert_exporter": "python",
   "pygments_lexer": "ipython3",
   "version": "3.7.4"
  }
 },
 "nbformat": 4,
 "nbformat_minor": 4
}
