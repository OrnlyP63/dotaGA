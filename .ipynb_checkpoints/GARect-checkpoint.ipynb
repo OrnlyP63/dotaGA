{
 "cells": [
  {
   "cell_type": "code",
   "execution_count": 1,
   "metadata": {},
   "outputs": [],
   "source": [
    "import numpy as np\n",
    "import random\n",
    "import matplotlib.pyplot as plt\n",
    "np.random.seed(0)"
   ]
  },
  {
   "cell_type": "code",
   "execution_count": 2,
   "metadata": {},
   "outputs": [],
   "source": [
    "class Canvas:\n",
    "    def __init__(self, width, height):\n",
    "        self.width = width\n",
    "        self.height = height\n",
    "        self.area = width * height\n",
    "        \n",
    "class Sml_rec:\n",
    "    def __init__(self, width, height, flip, bound, shape = None):\n",
    "        \n",
    "        self.f = flip\n",
    "        self.bound = bound\n",
    "        self.shape = shape\n",
    "        code = '{0:0rb}'.replace('r',f'{len(bin(bound.width))-2}')\n",
    "        \n",
    "        if flip:\n",
    "            self.width = width\n",
    "            self.height = height\n",
    "            self.area = width * height\n",
    "            self.p1 = np.random.randint(0, bound.height - self.height)\n",
    "            self.p2 = np.random.randint(0, bound.width - self.width)\n",
    "        else:\n",
    "            self.width = height\n",
    "            self.height = width\n",
    "            self.area = width * height\n",
    "            self.p1 = np.random.randint(0, bound.height - self.height)\n",
    "            self.p2 = np.random.randint(0, bound.width - self.width)\n",
    "            \n",
    "        self.dna = code.format(self.p1) + code.format(self.p2) + f'{self.f}'\n",
    "\n",
    "    \n",
    "        if self.shape is None:\n",
    "            a = np.zeros(bound.area).reshape(bound.height,bound.width)\n",
    "            a[self.p1:self.p1 + self.height, self.p2:self.p2 + self.width] = 1\n",
    "        \n",
    "        else:\n",
    "            a = np.zeros(bound.area).reshape(bound.height,bound.width)\n",
    "            a[self.p1:self.p1 + self.height, self.p2:self.p2 + self.width] = self.shape\n",
    "            \n",
    "        self.phenotype = a\n",
    "        \n",
    "    def xover(self,other):\n",
    "        par1 = self.dna\n",
    "        par2 = other.dna\n",
    "        position1 = np.random.randint(0, len(par1))\n",
    "        position2 = np.random.randint(0, len(par2))\n",
    "        \n",
    "        chd1_dna = par1[:position2] + par2[position1] +  par1[position2+1:]\n",
    "        chd2_dna = par2[:position1] + par1[position1] +  par2[position1+1:]\n",
    "        \n",
    "        chd1 = Sml_rec(int(chd1_dna[:8],2), int(chd1_dna[8:16],2), int(chd1_dna[-1],2), bound)\n",
    "        chd2 = Sml_rec(int(chd2_dna[:8],2), int(chd2_dna[8:16],2), int(chd2_dna[-1],2), bound)\n",
    "        return (chd1, chd2)\n",
    "    \n",
    "    def mutate(self):\n",
    "        position = np.random.randint(0, len(self.dna))\n",
    "        if self.dna[position] == '1':\n",
    "            self.dna = self.dna[:position] + '1' + self.dna[position+1:]\n",
    "        else:\n",
    "            self.dna = self.dna[:position] + '0' + self.dna[position+1:]"
   ]
  },
  {
   "cell_type": "code",
   "execution_count": 3,
   "metadata": {},
   "outputs": [],
   "source": [
    "bound = Canvas(100,100)"
   ]
  },
  {
   "cell_type": "code",
   "execution_count": 4,
   "metadata": {},
   "outputs": [
    {
     "data": {
      "text/plain": [
       "<matplotlib.image.AxesImage at 0x26cfc0dac88>"
      ]
     },
     "execution_count": 4,
     "metadata": {},
     "output_type": "execute_result"
    },
    {
     "data": {
      "image/png": "[encoded data removed]",
      "text/plain": [
       "<Figure size 432x288 with 1 Axes>"
      ]
     },
     "metadata": {
      "needs_background": "light"
     },
     "output_type": "display_data"
    }
   ],
   "source": [
    "A1 = np.ones(15*15).reshape(15,15)\n",
    "A1[4:11,4:11] = 0\n",
    "plt.imshow(A1)"
   ]
  },
  {
   "cell_type": "code",
   "execution_count": 5,
   "metadata": {},
   "outputs": [
    {
     "data": {
      "text/plain": [
       "<matplotlib.image.AxesImage at 0x26cff5de748>"
      ]
     },
     "execution_count": 5,
     "metadata": {},
     "output_type": "execute_result"
    },
    {
     "data": {
      "image/png": "[encoded data removed]",
      "text/plain": [
       "<Figure size 432x288 with 1 Axes>"
      ]
     },
     "metadata": {
      "needs_background": "light"
     },
     "output_type": "display_data"
    }
   ],
   "source": [
    "A2 = np.ones(7*7).reshape(7,7)\n",
    "A2[2:5,2:5] = 0\n",
    "plt.imshow(A2)"
   ]
  },
  {
   "cell_type": "code",
   "execution_count": 6,
   "metadata": {},
   "outputs": [],
   "source": [
    "bound = Canvas(50,30)\n",
    "G1 = Sml_rec(15,15,0,bound,shape=A1)\n",
    "G2 = Sml_rec(7,7,0,bound,shape=A2)\n",
    "G3 = Sml_rec(15,5,0,bound)\n",
    "G4 = Sml_rec(15,5,1,bound)\n",
    "G5 = Sml_rec(5,5,0,bound)\n",
    "G6 = Sml_rec(3,3,0,bound)"
   ]
  },
  {
   "cell_type": "code",
   "execution_count": 7,
   "metadata": {},
   "outputs": [],
   "source": [
    "Ar = G1.phenotype + G2.phenotype + G3.phenotype + G4.phenotype + G5.phenotype + G6.phenotype"
   ]
  },
  {
   "cell_type": "code",
   "execution_count": 8,
   "metadata": {},
   "outputs": [
    {
     "data": {
      "text/plain": [
       "<matplotlib.image.AxesImage at 0x26cff652308>"
      ]
     },
     "execution_count": 8,
     "metadata": {},
     "output_type": "execute_result"
    },
    {
     "data": {
      "image/png": "[encoded data removed]",
      "text/plain": [
       "<Figure size 432x288 with 1 Axes>"
      ]
     },
     "metadata": {
      "needs_background": "light"
     },
     "output_type": "display_data"
    }
   ],
   "source": [
    "plt.imshow(Ar)"
   ]
  },
  {
   "cell_type": "code",
   "execution_count": 9,
   "metadata": {},
   "outputs": [
    {
     "data": {
      "text/plain": [
       "400.0"
      ]
     },
     "execution_count": 9,
     "metadata": {},
     "output_type": "execute_result"
    }
   ],
   "source": [
    "np.sum(Ar)"
   ]
  },
  {
   "cell_type": "code",
   "execution_count": null,
   "metadata": {},
   "outputs": [],
   "source": []
  }
 ],
 "metadata": {
  "kernelspec": {
   "display_name": "Python 3",
   "language": "python",
   "name": "python3"
  },
  "language_info": {
   "codemirror_mode": {
    "name": "ipython",
    "version": 3
   },
   "file_extension": ".py",
   "mimetype": "text/x-python",
   "name": "python",
   "nbconvert_exporter": "python",
   "pygments_lexer": "ipython3",
   "version": "3.7.4"
  }
 },
 "nbformat": 4,
 "nbformat_minor": 4
}
